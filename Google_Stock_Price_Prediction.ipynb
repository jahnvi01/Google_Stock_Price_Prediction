{
  "nbformat": 4,
  "nbformat_minor": 0,
  "metadata": {
    "colab": {
      "name": "Google-Stock-Price-Prediction.ipynb",
      "provenance": []
    },
    "kernelspec": {
      "name": "python3",
      "display_name": "Python 3"
    }
  },
  "cells": [
    {
      "cell_type": "code",
      "metadata": {
        "id": "rx4avcqRWnag",
        "colab_type": "code",
        "colab": {}
      },
      "source": [
        "import numpy as np\n",
        "import matplotlib.pyplot as plt\n",
        "import pandas as pd\n",
        "from sklearn.preprocessing import MinMaxScaler"
      ],
      "execution_count": 0,
      "outputs": []
    },
    {
      "cell_type": "code",
      "metadata": {
        "id": "A6rdLRgLWxnD",
        "colab_type": "code",
        "outputId": "12bcf114-d59b-4e85-8544-1cf0faaef39e",
        "colab": {
          "base_uri": "https://localhost:8080/",
          "height": 119
        }
      },
      "source": [
        "!git clone https://github.com/laxmimerit/Google-Stock-Price-Prediction-Using-RNN---LSTM.git"
      ],
      "execution_count": 0,
      "outputs": [
        {
          "output_type": "stream",
          "text": [
            "Cloning into 'Google-Stock-Price-Prediction-Using-RNN---LSTM'...\n",
            "remote: Enumerating objects: 10, done.\u001b[K\n",
            "remote: Counting objects: 100% (10/10), done.\u001b[K\n",
            "remote: Compressing objects: 100% (10/10), done.\u001b[K\n",
            "remote: Total 10 (delta 3), reused 0 (delta 0), pack-reused 0\u001b[K\n",
            "Unpacking objects: 100% (10/10), done.\n"
          ],
          "name": "stdout"
        }
      ]
    },
    {
      "cell_type": "code",
      "metadata": {
        "id": "NQWXcHIDXgd6",
        "colab_type": "code",
        "outputId": "d628494d-7402-4bd9-9b1b-fd6fc60497f9",
        "colab": {
          "base_uri": "https://localhost:8080/",
          "height": 204
        }
      },
      "source": [
        "data = pd.read_csv('/content/Google-Stock-Price-Prediction-Using-RNN---LSTM/GOOG.csv', date_parser = True)\n",
        "data.tail()"
      ],
      "execution_count": 0,
      "outputs": [
        {
          "output_type": "execute_result",
          "data": {
            "text/html": [
              "<div>\n",
              "<style scoped>\n",
              "    .dataframe tbody tr th:only-of-type {\n",
              "        vertical-align: middle;\n",
              "    }\n",
              "\n",
              "    .dataframe tbody tr th {\n",
              "        vertical-align: top;\n",
              "    }\n",
              "\n",
              "    .dataframe thead th {\n",
              "        text-align: right;\n",
              "    }\n",
              "</style>\n",
              "<table border=\"1\" class=\"dataframe\">\n",
              "  <thead>\n",
              "    <tr style=\"text-align: right;\">\n",
              "      <th></th>\n",
              "      <th>Date</th>\n",
              "      <th>Open</th>\n",
              "      <th>High</th>\n",
              "      <th>Low</th>\n",
              "      <th>Close</th>\n",
              "      <th>Adj Close</th>\n",
              "      <th>Volume</th>\n",
              "    </tr>\n",
              "  </thead>\n",
              "  <tbody>\n",
              "    <tr>\n",
              "      <th>3804</th>\n",
              "      <td>2019-09-30</td>\n",
              "      <td>1220.969971</td>\n",
              "      <td>1226.000000</td>\n",
              "      <td>1212.300049</td>\n",
              "      <td>1219.000000</td>\n",
              "      <td>1219.000000</td>\n",
              "      <td>1404100</td>\n",
              "    </tr>\n",
              "    <tr>\n",
              "      <th>3805</th>\n",
              "      <td>2019-10-01</td>\n",
              "      <td>1219.000000</td>\n",
              "      <td>1231.229980</td>\n",
              "      <td>1203.579956</td>\n",
              "      <td>1205.099976</td>\n",
              "      <td>1205.099976</td>\n",
              "      <td>1273500</td>\n",
              "    </tr>\n",
              "    <tr>\n",
              "      <th>3806</th>\n",
              "      <td>2019-10-02</td>\n",
              "      <td>1196.979980</td>\n",
              "      <td>1196.979980</td>\n",
              "      <td>1171.290039</td>\n",
              "      <td>1176.630005</td>\n",
              "      <td>1176.630005</td>\n",
              "      <td>1615100</td>\n",
              "    </tr>\n",
              "    <tr>\n",
              "      <th>3807</th>\n",
              "      <td>2019-10-03</td>\n",
              "      <td>1180.000000</td>\n",
              "      <td>1189.060059</td>\n",
              "      <td>1162.430054</td>\n",
              "      <td>1187.829956</td>\n",
              "      <td>1187.829956</td>\n",
              "      <td>1621200</td>\n",
              "    </tr>\n",
              "    <tr>\n",
              "      <th>3808</th>\n",
              "      <td>2019-10-04</td>\n",
              "      <td>1191.890015</td>\n",
              "      <td>1211.439941</td>\n",
              "      <td>1189.170044</td>\n",
              "      <td>1209.000000</td>\n",
              "      <td>1209.000000</td>\n",
              "      <td>1021092</td>\n",
              "    </tr>\n",
              "  </tbody>\n",
              "</table>\n",
              "</div>"
            ],
            "text/plain": [
              "            Date         Open         High  ...        Close    Adj Close   Volume\n",
              "3804  2019-09-30  1220.969971  1226.000000  ...  1219.000000  1219.000000  1404100\n",
              "3805  2019-10-01  1219.000000  1231.229980  ...  1205.099976  1205.099976  1273500\n",
              "3806  2019-10-02  1196.979980  1196.979980  ...  1176.630005  1176.630005  1615100\n",
              "3807  2019-10-03  1180.000000  1189.060059  ...  1187.829956  1187.829956  1621200\n",
              "3808  2019-10-04  1191.890015  1211.439941  ...  1209.000000  1209.000000  1021092\n",
              "\n",
              "[5 rows x 7 columns]"
            ]
          },
          "metadata": {
            "tags": []
          },
          "execution_count": 4
        }
      ]
    },
    {
      "cell_type": "code",
      "metadata": {
        "id": "mZM6dsUfX2iU",
        "colab_type": "code",
        "colab": {}
      },
      "source": [
        "data_training = data[data['Date']<'2019-01-01'].copy()\n",
        "data_test = data[data['Date']>='2019-01-01'].copy()"
      ],
      "execution_count": 0,
      "outputs": []
    },
    {
      "cell_type": "code",
      "metadata": {
        "id": "mQJur1VaYC0c",
        "colab_type": "code",
        "colab": {}
      },
      "source": [
        "data_training = data_training.drop(['Date', 'Adj Close'], axis = 1)"
      ],
      "execution_count": 0,
      "outputs": []
    },
    {
      "cell_type": "code",
      "metadata": {
        "id": "VV6YCWHjYJqn",
        "colab_type": "code",
        "outputId": "cd11d150-e86d-4704-b907-327938840efe",
        "colab": {
          "base_uri": "https://localhost:8080/",
          "height": 238
        }
      },
      "source": [
        "scaler = MinMaxScaler()\n",
        "data_training = scaler.fit_transform(data_training)\n",
        "data_training"
      ],
      "execution_count": 0,
      "outputs": [
        {
          "output_type": "execute_result",
          "data": {
            "text/plain": [
              "array([[3.30294890e-04, 9.44785459e-04, 0.00000000e+00, 1.34908021e-04,\n",
              "        5.43577404e-01],\n",
              "       [7.42148227e-04, 2.98909923e-03, 1.88269054e-03, 3.39307537e-03,\n",
              "        2.77885613e-01],\n",
              "       [4.71386886e-03, 4.78092896e-03, 5.42828241e-03, 3.83867225e-03,\n",
              "        2.22150736e-01],\n",
              "       ...,\n",
              "       [7.92197108e-01, 8.11970141e-01, 7.90196475e-01, 8.15799920e-01,\n",
              "        2.54672037e-02],\n",
              "       [8.18777193e-01, 8.21510648e-01, 8.20249255e-01, 8.10219301e-01,\n",
              "        1.70463908e-02],\n",
              "       [8.19874096e-01, 8.19172449e-01, 8.12332341e-01, 8.09012935e-01,\n",
              "        1.79975186e-02]])"
            ]
          },
          "metadata": {
            "tags": []
          },
          "execution_count": 7
        }
      ]
    },
    {
      "cell_type": "code",
      "metadata": {
        "id": "O92Rx0nIYfzK",
        "colab_type": "code",
        "colab": {}
      },
      "source": [
        "\n",
        "X_train = []\n",
        "y_train = []\n",
        "for i in range(60, data_training.shape[0]):\n",
        "    X_train.append(data_training[i-60:i])\n",
        "    y_train.append(data_training[i, 0])"
      ],
      "execution_count": 0,
      "outputs": []
    },
    {
      "cell_type": "code",
      "metadata": {
        "id": "DWUb2Cspa2xq",
        "colab_type": "code",
        "outputId": "3a57f9a9-ad58-4de2-b9ec-dd9a10b9535b",
        "colab": {
          "base_uri": "https://localhost:8080/",
          "height": 34
        }
      },
      "source": [
        "X_train, y_train = np.array(X_train), np.array(y_train)\n",
        "X_train.shape"
      ],
      "execution_count": 0,
      "outputs": [
        {
          "output_type": "execute_result",
          "data": {
            "text/plain": [
              "(3557, 60, 5)"
            ]
          },
          "metadata": {
            "tags": []
          },
          "execution_count": 9
        }
      ]
    },
    {
      "cell_type": "code",
      "metadata": {
        "id": "kQiOw4T2bQG1",
        "colab_type": "code",
        "colab": {}
      },
      "source": [
        "from tensorflow.keras import Sequential\n",
        "from tensorflow.keras.layers import Dense, LSTM, Dropout"
      ],
      "execution_count": 0,
      "outputs": []
    },
    {
      "cell_type": "code",
      "metadata": {
        "id": "aS9TrdfRbTOy",
        "colab_type": "code",
        "colab": {}
      },
      "source": [
        "regressior = Sequential()\n",
        "\n",
        "regressior.add(LSTM(units = 60, activation = 'relu', return_sequences = True, input_shape = (X_train.shape[1], 5)))\n",
        "regressior.add(Dropout(0.2))\n",
        "\n",
        "regressior.add(LSTM(units = 60, activation = 'relu', return_sequences = True))\n",
        "regressior.add(Dropout(0.2))\n",
        "\n",
        "regressior.add(LSTM(units = 80, activation = 'relu', return_sequences = True))\n",
        "regressior.add(Dropout(0.2))\n",
        "\n",
        "regressior.add(LSTM(units = 120, activation = 'relu'))\n",
        "regressior.add(Dropout(0.2))\n",
        "\n",
        "regressior.add(Dense(units = 1))"
      ],
      "execution_count": 0,
      "outputs": []
    },
    {
      "cell_type": "code",
      "metadata": {
        "id": "d1c6dugbblOE",
        "colab_type": "code",
        "outputId": "969b42ce-55bd-4f45-c72e-adee778c4828",
        "colab": {
          "base_uri": "https://localhost:8080/",
          "height": 459
        }
      },
      "source": [
        "regressior.summary()"
      ],
      "execution_count": 0,
      "outputs": [
        {
          "output_type": "stream",
          "text": [
            "Model: \"sequential\"\n",
            "_________________________________________________________________\n",
            "Layer (type)                 Output Shape              Param #   \n",
            "=================================================================\n",
            "lstm (LSTM)                  (None, 60, 60)            15840     \n",
            "_________________________________________________________________\n",
            "dropout (Dropout)            (None, 60, 60)            0         \n",
            "_________________________________________________________________\n",
            "lstm_1 (LSTM)                (None, 60, 60)            29040     \n",
            "_________________________________________________________________\n",
            "dropout_1 (Dropout)          (None, 60, 60)            0         \n",
            "_________________________________________________________________\n",
            "lstm_2 (LSTM)                (None, 60, 80)            45120     \n",
            "_________________________________________________________________\n",
            "dropout_2 (Dropout)          (None, 60, 80)            0         \n",
            "_________________________________________________________________\n",
            "lstm_3 (LSTM)                (None, 120)               96480     \n",
            "_________________________________________________________________\n",
            "dropout_3 (Dropout)          (None, 120)               0         \n",
            "_________________________________________________________________\n",
            "dense (Dense)                (None, 1)                 121       \n",
            "=================================================================\n",
            "Total params: 186,601\n",
            "Trainable params: 186,601\n",
            "Non-trainable params: 0\n",
            "_________________________________________________________________\n"
          ],
          "name": "stdout"
        }
      ]
    },
    {
      "cell_type": "code",
      "metadata": {
        "id": "DCduAsNPbo-R",
        "colab_type": "code",
        "outputId": "feac198c-2532-43c7-c756-ef54290508c9",
        "colab": {
          "base_uri": "https://localhost:8080/",
          "height": 1000
        }
      },
      "source": [
        "regressior.compile(optimizer='adam', loss = 'mean_squared_error')\n",
        "regressior.fit(X_train, y_train, epochs=50, batch_size=32)"
      ],
      "execution_count": 0,
      "outputs": [
        {
          "output_type": "stream",
          "text": [
            "Epoch 1/50\n",
            "112/112 [==============================] - 19s 167ms/step - loss: 0.0133\n",
            "Epoch 2/50\n",
            "112/112 [==============================] - 19s 167ms/step - loss: 0.0021\n",
            "Epoch 3/50\n",
            "112/112 [==============================] - 19s 167ms/step - loss: 0.0019\n",
            "Epoch 4/50\n",
            "112/112 [==============================] - 19s 167ms/step - loss: 0.0018\n",
            "Epoch 5/50\n",
            "112/112 [==============================] - 19s 167ms/step - loss: 0.0017\n",
            "Epoch 6/50\n",
            "112/112 [==============================] - 19s 165ms/step - loss: 0.0017\n",
            "Epoch 7/50\n",
            "112/112 [==============================] - 19s 167ms/step - loss: 0.0014\n",
            "Epoch 8/50\n",
            "112/112 [==============================] - 19s 172ms/step - loss: 0.0015\n",
            "Epoch 9/50\n",
            "112/112 [==============================] - 19s 166ms/step - loss: 0.0014\n",
            "Epoch 10/50\n",
            "112/112 [==============================] - 18s 165ms/step - loss: 0.0013\n",
            "Epoch 11/50\n",
            "112/112 [==============================] - 18s 165ms/step - loss: 0.0012\n",
            "Epoch 12/50\n",
            "112/112 [==============================] - 19s 166ms/step - loss: 0.0015\n",
            "Epoch 13/50\n",
            "112/112 [==============================] - 19s 167ms/step - loss: 0.0017\n",
            "Epoch 14/50\n",
            "112/112 [==============================] - 19s 169ms/step - loss: 0.0011\n",
            "Epoch 15/50\n",
            "112/112 [==============================] - 19s 168ms/step - loss: 0.0011\n",
            "Epoch 16/50\n",
            "112/112 [==============================] - 19s 167ms/step - loss: 0.0011\n",
            "Epoch 17/50\n",
            "112/112 [==============================] - 19s 166ms/step - loss: 0.0010\n",
            "Epoch 18/50\n",
            "112/112 [==============================] - 19s 167ms/step - loss: 9.7794e-04\n",
            "Epoch 19/50\n",
            "112/112 [==============================] - 19s 165ms/step - loss: 9.4292e-04\n",
            "Epoch 20/50\n",
            "112/112 [==============================] - 18s 165ms/step - loss: 9.1470e-04\n",
            "Epoch 21/50\n",
            "112/112 [==============================] - 18s 165ms/step - loss: 0.0010\n",
            "Epoch 22/50\n",
            "112/112 [==============================] - 18s 164ms/step - loss: 8.3992e-04\n",
            "Epoch 23/50\n",
            "112/112 [==============================] - 19s 166ms/step - loss: 8.5647e-04\n",
            "Epoch 24/50\n",
            "112/112 [==============================] - 18s 164ms/step - loss: 9.9026e-04\n",
            "Epoch 25/50\n",
            "112/112 [==============================] - 19s 171ms/step - loss: 9.2270e-04\n",
            "Epoch 26/50\n",
            "112/112 [==============================] - 19s 168ms/step - loss: 7.7628e-04\n",
            "Epoch 27/50\n",
            "112/112 [==============================] - 19s 166ms/step - loss: 7.5037e-04\n",
            "Epoch 28/50\n",
            "112/112 [==============================] - 19s 165ms/step - loss: 7.1650e-04\n",
            "Epoch 29/50\n",
            "112/112 [==============================] - 19s 165ms/step - loss: 7.3453e-04\n",
            "Epoch 30/50\n",
            "112/112 [==============================] - 19s 167ms/step - loss: 7.1079e-04\n",
            "Epoch 31/50\n",
            "112/112 [==============================] - 19s 165ms/step - loss: 7.3213e-04\n",
            "Epoch 32/50\n",
            "112/112 [==============================] - 18s 165ms/step - loss: 9.3772e-04\n",
            "Epoch 33/50\n",
            "112/112 [==============================] - 18s 165ms/step - loss: 7.6454e-04\n",
            "Epoch 34/50\n",
            "112/112 [==============================] - 19s 165ms/step - loss: 7.1527e-04\n",
            "Epoch 35/50\n",
            "112/112 [==============================] - 19s 165ms/step - loss: 6.7701e-04\n",
            "Epoch 36/50\n",
            "112/112 [==============================] - 19s 165ms/step - loss: 6.4959e-04\n",
            "Epoch 37/50\n",
            "112/112 [==============================] - 19s 165ms/step - loss: 6.5086e-04\n",
            "Epoch 38/50\n",
            "112/112 [==============================] - 19s 166ms/step - loss: 7.1550e-04\n",
            "Epoch 39/50\n",
            "112/112 [==============================] - 19s 166ms/step - loss: 7.5285e-04\n",
            "Epoch 40/50\n",
            "112/112 [==============================] - 18s 165ms/step - loss: 6.6634e-04\n",
            "Epoch 41/50\n",
            "112/112 [==============================] - 18s 164ms/step - loss: 6.4629e-04\n",
            "Epoch 42/50\n",
            "112/112 [==============================] - 19s 169ms/step - loss: 6.5485e-04\n",
            "Epoch 43/50\n",
            "112/112 [==============================] - 19s 168ms/step - loss: 7.0682e-04\n",
            "Epoch 44/50\n",
            "112/112 [==============================] - 18s 165ms/step - loss: 6.8017e-04\n",
            "Epoch 45/50\n",
            "112/112 [==============================] - 18s 165ms/step - loss: 6.7352e-04\n",
            "Epoch 46/50\n",
            "112/112 [==============================] - 19s 168ms/step - loss: 6.1913e-04\n",
            "Epoch 47/50\n",
            "112/112 [==============================] - 19s 165ms/step - loss: 5.9709e-04\n",
            "Epoch 48/50\n",
            "112/112 [==============================] - 18s 165ms/step - loss: 6.5073e-04\n",
            "Epoch 49/50\n",
            "112/112 [==============================] - 18s 164ms/step - loss: 6.7481e-04\n",
            "Epoch 50/50\n",
            "112/112 [==============================] - 18s 164ms/step - loss: 6.8314e-04\n"
          ],
          "name": "stdout"
        },
        {
          "output_type": "execute_result",
          "data": {
            "text/plain": [
              "<tensorflow.python.keras.callbacks.History at 0x7fdd66b81048>"
            ]
          },
          "metadata": {
            "tags": []
          },
          "execution_count": 15
        }
      ]
    },
    {
      "cell_type": "code",
      "metadata": {
        "id": "goeXKvZ5jGKY",
        "colab_type": "code",
        "outputId": "7531c747-d35f-4f2e-a8c1-e27a0bd530eb",
        "colab": {
          "base_uri": "https://localhost:8080/",
          "height": 238
        }
      },
      "source": [
        "data_training"
      ],
      "execution_count": 0,
      "outputs": [
        {
          "output_type": "execute_result",
          "data": {
            "text/plain": [
              "array([[3.30294890e-04, 9.44785459e-04, 0.00000000e+00, 1.34908021e-04,\n",
              "        5.43577404e-01],\n",
              "       [7.42148227e-04, 2.98909923e-03, 1.88269054e-03, 3.39307537e-03,\n",
              "        2.77885613e-01],\n",
              "       [4.71386886e-03, 4.78092896e-03, 5.42828241e-03, 3.83867225e-03,\n",
              "        2.22150736e-01],\n",
              "       ...,\n",
              "       [7.92197108e-01, 8.11970141e-01, 7.90196475e-01, 8.15799920e-01,\n",
              "        2.54672037e-02],\n",
              "       [8.18777193e-01, 8.21510648e-01, 8.20249255e-01, 8.10219301e-01,\n",
              "        1.70463908e-02],\n",
              "       [8.19874096e-01, 8.19172449e-01, 8.12332341e-01, 8.09012935e-01,\n",
              "        1.79975186e-02]])"
            ]
          },
          "metadata": {
            "tags": []
          },
          "execution_count": 18
        }
      ]
    },
    {
      "cell_type": "code",
      "metadata": {
        "id": "bApgFEYDc9O8",
        "colab_type": "code",
        "outputId": "574c3b11-d85c-477c-a5cf-257da9442ee9",
        "colab": {
          "base_uri": "https://localhost:8080/",
          "height": 204
        }
      },
      "source": [
        "data_training = data[data['Date']<'2019-01-01'].copy()\n",
        "data_training = data_training.drop(['Date', 'Adj Close'], axis = 1)\n",
        "\n",
        "past_60_days = data_training.tail(60)\n",
        "df = past_60_days.append(data_test, ignore_index = True)\n",
        "df = df.drop(['Date', 'Adj Close'], axis = 1)\n",
        "df.head()"
      ],
      "execution_count": 0,
      "outputs": [
        {
          "output_type": "execute_result",
          "data": {
            "text/html": [
              "<div>\n",
              "<style scoped>\n",
              "    .dataframe tbody tr th:only-of-type {\n",
              "        vertical-align: middle;\n",
              "    }\n",
              "\n",
              "    .dataframe tbody tr th {\n",
              "        vertical-align: top;\n",
              "    }\n",
              "\n",
              "    .dataframe thead th {\n",
              "        text-align: right;\n",
              "    }\n",
              "</style>\n",
              "<table border=\"1\" class=\"dataframe\">\n",
              "  <thead>\n",
              "    <tr style=\"text-align: right;\">\n",
              "      <th></th>\n",
              "      <th>Open</th>\n",
              "      <th>High</th>\n",
              "      <th>Low</th>\n",
              "      <th>Close</th>\n",
              "      <th>Volume</th>\n",
              "    </tr>\n",
              "  </thead>\n",
              "  <tbody>\n",
              "    <tr>\n",
              "      <th>0</th>\n",
              "      <td>1195.329956</td>\n",
              "      <td>1197.510010</td>\n",
              "      <td>1155.576050</td>\n",
              "      <td>1168.189941</td>\n",
              "      <td>2209500</td>\n",
              "    </tr>\n",
              "    <tr>\n",
              "      <th>1</th>\n",
              "      <td>1167.500000</td>\n",
              "      <td>1173.500000</td>\n",
              "      <td>1145.119995</td>\n",
              "      <td>1157.349976</td>\n",
              "      <td>1184300</td>\n",
              "    </tr>\n",
              "    <tr>\n",
              "      <th>2</th>\n",
              "      <td>1150.109985</td>\n",
              "      <td>1168.000000</td>\n",
              "      <td>1127.364014</td>\n",
              "      <td>1148.969971</td>\n",
              "      <td>1932400</td>\n",
              "    </tr>\n",
              "    <tr>\n",
              "      <th>3</th>\n",
              "      <td>1146.150024</td>\n",
              "      <td>1154.349976</td>\n",
              "      <td>1137.572021</td>\n",
              "      <td>1138.819946</td>\n",
              "      <td>1308700</td>\n",
              "    </tr>\n",
              "    <tr>\n",
              "      <th>4</th>\n",
              "      <td>1131.079956</td>\n",
              "      <td>1132.170044</td>\n",
              "      <td>1081.130005</td>\n",
              "      <td>1081.219971</td>\n",
              "      <td>2675700</td>\n",
              "    </tr>\n",
              "  </tbody>\n",
              "</table>\n",
              "</div>"
            ],
            "text/plain": [
              "          Open         High          Low        Close   Volume\n",
              "0  1195.329956  1197.510010  1155.576050  1168.189941  2209500\n",
              "1  1167.500000  1173.500000  1145.119995  1157.349976  1184300\n",
              "2  1150.109985  1168.000000  1127.364014  1148.969971  1932400\n",
              "3  1146.150024  1154.349976  1137.572021  1138.819946  1308700\n",
              "4  1131.079956  1132.170044  1081.130005  1081.219971  2675700"
            ]
          },
          "metadata": {
            "tags": []
          },
          "execution_count": 21
        }
      ]
    },
    {
      "cell_type": "code",
      "metadata": {
        "id": "CZe_0mHFdBUq",
        "colab_type": "code",
        "outputId": "cfdd5cc7-fa98-4f5e-ba7b-5333052dc1cc",
        "colab": {
          "base_uri": "https://localhost:8080/",
          "height": 136
        }
      },
      "source": [
        "inputs = scaler.transform(df)\n",
        "inputs"
      ],
      "execution_count": 0,
      "outputs": [
        {
          "output_type": "execute_result",
          "data": {
            "text/plain": [
              "array([[0.93805611, 0.93755773, 0.92220906, 0.91781776, 0.0266752 ],\n",
              "       [0.91527437, 0.91792904, 0.91350452, 0.90892169, 0.01425359],\n",
              "       [0.90103881, 0.91343268, 0.89872289, 0.90204445, 0.02331778],\n",
              "       ...,\n",
              "       [0.93940683, 0.93712442, 0.93529076, 0.9247443 , 0.01947328],\n",
              "       [0.92550693, 0.93064972, 0.92791493, 0.9339358 , 0.01954719],\n",
              "       [0.93524016, 0.94894575, 0.95017564, 0.95130949, 0.01227612]])"
            ]
          },
          "metadata": {
            "tags": []
          },
          "execution_count": 22
        }
      ]
    },
    {
      "cell_type": "code",
      "metadata": {
        "id": "5JNk1oi4dHwT",
        "colab_type": "code",
        "colab": {}
      },
      "source": [
        "\n",
        "X_test = []\n",
        "y_test = []\n",
        "\n",
        "for i in range(60, inputs.shape[0]):\n",
        "    X_test.append(inputs[i-60:i])\n",
        "    y_test.append(inputs[i, 0])"
      ],
      "execution_count": 0,
      "outputs": []
    },
    {
      "cell_type": "code",
      "metadata": {
        "id": "LqRyA4lLegse",
        "colab_type": "code",
        "outputId": "e001745b-4630-4ba0-d0c9-5f29af95efad",
        "colab": {
          "base_uri": "https://localhost:8080/",
          "height": 34
        }
      },
      "source": [
        "X_test, y_test = np.array(X_test), np.array(y_test)\n",
        "X_test.shape, y_test.shape"
      ],
      "execution_count": 0,
      "outputs": [
        {
          "output_type": "execute_result",
          "data": {
            "text/plain": [
              "((192, 60, 5), (192,))"
            ]
          },
          "metadata": {
            "tags": []
          },
          "execution_count": 24
        }
      ]
    },
    {
      "cell_type": "code",
      "metadata": {
        "id": "uFS3fJSXehov",
        "colab_type": "code",
        "colab": {}
      },
      "source": [
        "\n",
        "y_pred = regressior.predict(X_test)"
      ],
      "execution_count": 0,
      "outputs": []
    },
    {
      "cell_type": "code",
      "metadata": {
        "id": "XmckHaJEekfH",
        "colab_type": "code",
        "outputId": "1376bd8a-3cc6-4e01-93f4-65f5e0457b7c",
        "colab": {
          "base_uri": "https://localhost:8080/",
          "height": 51
        }
      },
      "source": [
        "scaler.scale_"
      ],
      "execution_count": 0,
      "outputs": [
        {
          "output_type": "execute_result",
          "data": {
            "text/plain": [
              "array([8.18605127e-04, 8.17521128e-04, 8.32487534e-04, 8.20673293e-04,\n",
              "       1.21162775e-08])"
            ]
          },
          "metadata": {
            "tags": []
          },
          "execution_count": 26
        }
      ]
    },
    {
      "cell_type": "code",
      "metadata": {
        "id": "IYLbawtFesFe",
        "colab_type": "code",
        "outputId": "6b98d87e-91a3-42cc-cd97-84169545b67a",
        "colab": {
          "base_uri": "https://localhost:8080/",
          "height": 34
        }
      },
      "source": [
        "\n",
        "scale = 1/8.18605127e-04\n",
        "scale"
      ],
      "execution_count": 0,
      "outputs": [
        {
          "output_type": "execute_result",
          "data": {
            "text/plain": [
              "1221.5901990069017"
            ]
          },
          "metadata": {
            "tags": []
          },
          "execution_count": 27
        }
      ]
    },
    {
      "cell_type": "code",
      "metadata": {
        "id": "zS-U2aE8eyr-",
        "colab_type": "code",
        "colab": {}
      },
      "source": [
        "y_pred = y_pred*scale\n",
        "y_test = y_test*scale"
      ],
      "execution_count": 0,
      "outputs": []
    },
    {
      "cell_type": "code",
      "metadata": {
        "id": "2IAK4FZ4e3c-",
        "colab_type": "code",
        "outputId": "e740f1f6-6ffd-47b4-80ec-0beb483612be",
        "colab": {
          "base_uri": "https://localhost:8080/",
          "height": 350
        }
      },
      "source": [
        "# Visualising the results\n",
        "plt.figure(figsize=(14,5))\n",
        "plt.plot(y_test, color = 'red', label = 'Real Google Stock Price')\n",
        "plt.plot(y_pred, color = 'blue', label = 'Predicted Google Stock Price')\n",
        "plt.title('Google Stock Price Prediction')\n",
        "plt.xlabel('Time')\n",
        "plt.ylabel('Google Stock Price')\n",
        "plt.legend()\n",
        "plt.show()"
      ],
      "execution_count": 0,
      "outputs": [
        {
          "output_type": "display_data",
          "data": {
            "image/png": "[encoded data removed]",
            "text/plain": [
              "<Figure size 1008x360 with 1 Axes>"
            ]
          },
          "metadata": {
            "tags": []
          }
        }
      ]
    }
  ]
}